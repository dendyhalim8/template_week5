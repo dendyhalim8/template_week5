{
 "cells": [
  {
   "cell_type": "code",
   "execution_count": null,
   "metadata": {},
   "outputs": [],
   "source": [
    "data_mahasiswa = [\n",
    "    {\n",
    "        \"nama\": \"Achmad Sidiq Herman\",\n",
    "        \"nim\": \"I0322001\",\n",
    "        \"ipk\": 3.75,\n",
    "    },\n",
    "    {\n",
    "        \"nama\": \"Aditya Agung Nugroho\",\n",
    "        \"nim\": \"I0322002\",\n",
    "        \"ipk\": 3.65,\n",
    "    },\n",
    "    {\n",
    "        \"nama\": \"Adriani Hasna Khalisha\",\n",
    "        \"nim\": \"I0322004\",\n",
    "        \"ipk\": 3.85,\n",
    "    }\n",
    "]"
   ]
  }
 ],
 "metadata": {
  "language_info": {
   "name": "python"
  },
  "orig_nbformat": 4
 },
 "nbformat": 4,
 "nbformat_minor": 2
}
